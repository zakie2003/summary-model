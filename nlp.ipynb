{
 "cells": [
  {
   "cell_type": "code",
   "execution_count": 22,
   "id": "35149d03",
   "metadata": {},
   "outputs": [],
   "source": [
    "import spacy\n",
    "from spacy.lang.en.stop_words import STOP_WORDS\n",
    "from string import punctuation"
   ]
  },
  {
   "cell_type": "code",
   "execution_count": 23,
   "id": "4b8a2377",
   "metadata": {},
   "outputs": [
    {
     "data": {
      "text/plain": [
       "{\"'d\",\n",
       " \"'ll\",\n",
       " \"'m\",\n",
       " \"'re\",\n",
       " \"'s\",\n",
       " \"'ve\",\n",
       " 'a',\n",
       " 'about',\n",
       " 'above',\n",
       " 'across',\n",
       " 'after',\n",
       " 'afterwards',\n",
       " 'again',\n",
       " 'against',\n",
       " 'all',\n",
       " 'almost',\n",
       " 'alone',\n",
       " 'along',\n",
       " 'already',\n",
       " 'also',\n",
       " 'although',\n",
       " 'always',\n",
       " 'am',\n",
       " 'among',\n",
       " 'amongst',\n",
       " 'amount',\n",
       " 'an',\n",
       " 'and',\n",
       " 'another',\n",
       " 'any',\n",
       " 'anyhow',\n",
       " 'anyone',\n",
       " 'anything',\n",
       " 'anyway',\n",
       " 'anywhere',\n",
       " 'are',\n",
       " 'around',\n",
       " 'as',\n",
       " 'at',\n",
       " 'back',\n",
       " 'be',\n",
       " 'became',\n",
       " 'because',\n",
       " 'become',\n",
       " 'becomes',\n",
       " 'becoming',\n",
       " 'been',\n",
       " 'before',\n",
       " 'beforehand',\n",
       " 'behind',\n",
       " 'being',\n",
       " 'below',\n",
       " 'beside',\n",
       " 'besides',\n",
       " 'between',\n",
       " 'beyond',\n",
       " 'both',\n",
       " 'bottom',\n",
       " 'but',\n",
       " 'by',\n",
       " 'ca',\n",
       " 'call',\n",
       " 'can',\n",
       " 'cannot',\n",
       " 'could',\n",
       " 'did',\n",
       " 'do',\n",
       " 'does',\n",
       " 'doing',\n",
       " 'done',\n",
       " 'down',\n",
       " 'due',\n",
       " 'during',\n",
       " 'each',\n",
       " 'eight',\n",
       " 'either',\n",
       " 'eleven',\n",
       " 'else',\n",
       " 'elsewhere',\n",
       " 'empty',\n",
       " 'enough',\n",
       " 'even',\n",
       " 'ever',\n",
       " 'every',\n",
       " 'everyone',\n",
       " 'everything',\n",
       " 'everywhere',\n",
       " 'except',\n",
       " 'few',\n",
       " 'fifteen',\n",
       " 'fifty',\n",
       " 'first',\n",
       " 'five',\n",
       " 'for',\n",
       " 'former',\n",
       " 'formerly',\n",
       " 'forty',\n",
       " 'four',\n",
       " 'from',\n",
       " 'front',\n",
       " 'full',\n",
       " 'further',\n",
       " 'get',\n",
       " 'give',\n",
       " 'go',\n",
       " 'had',\n",
       " 'has',\n",
       " 'have',\n",
       " 'he',\n",
       " 'hence',\n",
       " 'her',\n",
       " 'here',\n",
       " 'hereafter',\n",
       " 'hereby',\n",
       " 'herein',\n",
       " 'hereupon',\n",
       " 'hers',\n",
       " 'herself',\n",
       " 'him',\n",
       " 'himself',\n",
       " 'his',\n",
       " 'how',\n",
       " 'however',\n",
       " 'hundred',\n",
       " 'i',\n",
       " 'if',\n",
       " 'in',\n",
       " 'indeed',\n",
       " 'into',\n",
       " 'is',\n",
       " 'it',\n",
       " 'its',\n",
       " 'itself',\n",
       " 'just',\n",
       " 'keep',\n",
       " 'last',\n",
       " 'latter',\n",
       " 'latterly',\n",
       " 'least',\n",
       " 'less',\n",
       " 'made',\n",
       " 'make',\n",
       " 'many',\n",
       " 'may',\n",
       " 'me',\n",
       " 'meanwhile',\n",
       " 'might',\n",
       " 'mine',\n",
       " 'more',\n",
       " 'moreover',\n",
       " 'most',\n",
       " 'mostly',\n",
       " 'move',\n",
       " 'much',\n",
       " 'must',\n",
       " 'my',\n",
       " 'myself',\n",
       " \"n't\",\n",
       " 'name',\n",
       " 'namely',\n",
       " 'neither',\n",
       " 'never',\n",
       " 'nevertheless',\n",
       " 'next',\n",
       " 'nine',\n",
       " 'no',\n",
       " 'nobody',\n",
       " 'none',\n",
       " 'noone',\n",
       " 'nor',\n",
       " 'not',\n",
       " 'nothing',\n",
       " 'now',\n",
       " 'nowhere',\n",
       " 'n‘t',\n",
       " 'n’t',\n",
       " 'of',\n",
       " 'off',\n",
       " 'often',\n",
       " 'on',\n",
       " 'once',\n",
       " 'one',\n",
       " 'only',\n",
       " 'onto',\n",
       " 'or',\n",
       " 'other',\n",
       " 'others',\n",
       " 'otherwise',\n",
       " 'our',\n",
       " 'ours',\n",
       " 'ourselves',\n",
       " 'out',\n",
       " 'over',\n",
       " 'own',\n",
       " 'part',\n",
       " 'per',\n",
       " 'perhaps',\n",
       " 'please',\n",
       " 'put',\n",
       " 'quite',\n",
       " 'rather',\n",
       " 're',\n",
       " 'really',\n",
       " 'regarding',\n",
       " 'same',\n",
       " 'say',\n",
       " 'see',\n",
       " 'seem',\n",
       " 'seemed',\n",
       " 'seeming',\n",
       " 'seems',\n",
       " 'serious',\n",
       " 'several',\n",
       " 'she',\n",
       " 'should',\n",
       " 'show',\n",
       " 'side',\n",
       " 'since',\n",
       " 'six',\n",
       " 'sixty',\n",
       " 'so',\n",
       " 'some',\n",
       " 'somehow',\n",
       " 'someone',\n",
       " 'something',\n",
       " 'sometime',\n",
       " 'sometimes',\n",
       " 'somewhere',\n",
       " 'still',\n",
       " 'such',\n",
       " 'take',\n",
       " 'ten',\n",
       " 'than',\n",
       " 'that',\n",
       " 'the',\n",
       " 'their',\n",
       " 'them',\n",
       " 'themselves',\n",
       " 'then',\n",
       " 'thence',\n",
       " 'there',\n",
       " 'thereafter',\n",
       " 'thereby',\n",
       " 'therefore',\n",
       " 'therein',\n",
       " 'thereupon',\n",
       " 'these',\n",
       " 'they',\n",
       " 'third',\n",
       " 'this',\n",
       " 'those',\n",
       " 'though',\n",
       " 'three',\n",
       " 'through',\n",
       " 'throughout',\n",
       " 'thru',\n",
       " 'thus',\n",
       " 'to',\n",
       " 'together',\n",
       " 'too',\n",
       " 'top',\n",
       " 'toward',\n",
       " 'towards',\n",
       " 'twelve',\n",
       " 'twenty',\n",
       " 'two',\n",
       " 'under',\n",
       " 'unless',\n",
       " 'until',\n",
       " 'up',\n",
       " 'upon',\n",
       " 'us',\n",
       " 'used',\n",
       " 'using',\n",
       " 'various',\n",
       " 'very',\n",
       " 'via',\n",
       " 'was',\n",
       " 'we',\n",
       " 'well',\n",
       " 'were',\n",
       " 'what',\n",
       " 'whatever',\n",
       " 'when',\n",
       " 'whence',\n",
       " 'whenever',\n",
       " 'where',\n",
       " 'whereafter',\n",
       " 'whereas',\n",
       " 'whereby',\n",
       " 'wherein',\n",
       " 'whereupon',\n",
       " 'wherever',\n",
       " 'whether',\n",
       " 'which',\n",
       " 'while',\n",
       " 'whither',\n",
       " 'who',\n",
       " 'whoever',\n",
       " 'whole',\n",
       " 'whom',\n",
       " 'whose',\n",
       " 'why',\n",
       " 'will',\n",
       " 'with',\n",
       " 'within',\n",
       " 'without',\n",
       " 'would',\n",
       " 'yet',\n",
       " 'you',\n",
       " 'your',\n",
       " 'yours',\n",
       " 'yourself',\n",
       " 'yourselves',\n",
       " '‘d',\n",
       " '‘ll',\n",
       " '‘m',\n",
       " '‘re',\n",
       " '‘s',\n",
       " '‘ve',\n",
       " '’d',\n",
       " '’ll',\n",
       " '’m',\n",
       " '’re',\n",
       " '’s',\n",
       " '’ve'}"
      ]
     },
     "execution_count": 23,
     "metadata": {},
     "output_type": "execute_result"
    }
   ],
   "source": [
    "stop_word=STOP_WORDS\n",
    "stop_word"
   ]
  },
  {
   "cell_type": "code",
   "execution_count": 24,
   "id": "cc5227df",
   "metadata": {},
   "outputs": [],
   "source": [
    "text = \"\"\"\n",
    "There are broadly two types of extractive summarization tasks depending on what the summarization program focuses on. The first is generic summarization, which focuses on obtaining a generic summary or abstract of the collection (whether documents, or sets of images, or videos, news stories etc.). The second is query relevant summarization, sometimes called query-based summarization, which summarizes objects specific to a query. Summarization systems are able to create both query relevant text summaries and generic machine-generated summaries depending on what the user needs.\n",
    "An example of a summarization problem is document summarization, which attempts to automatically produce an abstract from a given document. Sometimes one might be interested in generating a summary from a single source document, while others can use multiple source documents (for example, a cluster of articles on the same topic). This problem is called multi-document summarization. A related application is summarizing news articles. Imagine a system, which automatically pulls together news articles on a given topic (from the web), and concisely represents the latest news as a summary.\n",
    "Image collection summarization is another application example of automatic summarization. It consists in selecting a representative set of images from a larger set of images.[3] A summary in this context is useful to show the most representative images of results in an image collection exploration system. Video summarization is a related domain, where the system automatically creates a trailer of a long video. This also has applications in consumer or personal videos, where one might want to skip the boring or repetitive actions. Similarly, in surveillance videos, one would want to extract important and suspicious activity, while ignoring all the boring and redundant frames captured.\n",
    "\"\"\""
   ]
  },
  {
   "cell_type": "code",
   "execution_count": 25,
   "id": "c1e93fdf",
   "metadata": {},
   "outputs": [],
   "source": [
    "nlp=spacy.load(\"en_core_web_sm\")\n",
    "\n",
    "doc=nlp(text)\n"
   ]
  },
  {
   "cell_type": "code",
   "execution_count": 26,
   "id": "84fe11e7",
   "metadata": {},
   "outputs": [
    {
     "name": "stdout",
     "output_type": "stream",
     "text": [
      "['\\n', 'There', 'are', 'broadly', 'two', 'types', 'of', 'extractive', 'summarization', 'tasks', 'depending', 'on', 'what', 'the', 'summarization', 'program', 'focuses', 'on', '.', 'The', 'first', 'is', 'generic', 'summarization', ',', 'which', 'focuses', 'on', 'obtaining', 'a', 'generic', 'summary', 'or', 'abstract', 'of', 'the', 'collection', '(', 'whether', 'documents', ',', 'or', 'sets', 'of', 'images', ',', 'or', 'videos', ',', 'news', 'stories', 'etc', '.', ')', '.', 'The', 'second', 'is', 'query', 'relevant', 'summarization', ',', 'sometimes', 'called', 'query', '-', 'based', 'summarization', ',', 'which', 'summarizes', 'objects', 'specific', 'to', 'a', 'query', '.', 'Summarization', 'systems', 'are', 'able', 'to', 'create', 'both', 'query', 'relevant', 'text', 'summaries', 'and', 'generic', 'machine', '-', 'generated', 'summaries', 'depending', 'on', 'what', 'the', 'user', 'needs', '.', '\\n', 'An', 'example', 'of', 'a', 'summarization', 'problem', 'is', 'document', 'summarization', ',', 'which', 'attempts', 'to', 'automatically', 'produce', 'an', 'abstract', 'from', 'a', 'given', 'document', '.', 'Sometimes', 'one', 'might', 'be', 'interested', 'in', 'generating', 'a', 'summary', 'from', 'a', 'single', 'source', 'document', ',', 'while', 'others', 'can', 'use', 'multiple', 'source', 'documents', '(', 'for', 'example', ',', 'a', 'cluster', 'of', 'articles', 'on', 'the', 'same', 'topic', ')', '.', 'This', 'problem', 'is', 'called', 'multi', '-', 'document', 'summarization', '.', 'A', 'related', 'application', 'is', 'summarizing', 'news', 'articles', '.', 'Imagine', 'a', 'system', ',', 'which', 'automatically', 'pulls', 'together', 'news', 'articles', 'on', 'a', 'given', 'topic', '(', 'from', 'the', 'web', ')', ',', 'and', 'concisely', 'represents', 'the', 'latest', 'news', 'as', 'a', 'summary', '.', '\\n', 'Image', 'collection', 'summarization', 'is', 'another', 'application', 'example', 'of', 'automatic', 'summarization', '.', 'It', 'consists', 'in', 'selecting', 'a', 'representative', 'set', 'of', 'images', 'from', 'a', 'larger', 'set', 'of', 'images.[3', ']', 'A', 'summary', 'in', 'this', 'context', 'is', 'useful', 'to', 'show', 'the', 'most', 'representative', 'images', 'of', 'results', 'in', 'an', 'image', 'collection', 'exploration', 'system', '.', 'Video', 'summarization', 'is', 'a', 'related', 'domain', ',', 'where', 'the', 'system', 'automatically', 'creates', 'a', 'trailer', 'of', 'a', 'long', 'video', '.', 'This', 'also', 'has', 'applications', 'in', 'consumer', 'or', 'personal', 'videos', ',', 'where', 'one', 'might', 'want', 'to', 'skip', 'the', 'boring', 'or', 'repetitive', 'actions', '.', 'Similarly', ',', 'in', 'surveillance', 'videos', ',', 'one', 'would', 'want', 'to', 'extract', 'important', 'and', 'suspicious', 'activity', ',', 'while', 'ignoring', 'all', 'the', 'boring', 'and', 'redundant', 'frames', 'captured', '.', '\\n']\n"
     ]
    }
   ],
   "source": [
    "tokens=[i.text for i in doc]\n",
    "print(tokens)"
   ]
  },
  {
   "cell_type": "code",
   "execution_count": 27,
   "id": "53df8c53",
   "metadata": {},
   "outputs": [],
   "source": [
    "punctuation=punctuation+\"\\n\""
   ]
  },
  {
   "cell_type": "code",
   "execution_count": 28,
   "id": "eec88155",
   "metadata": {},
   "outputs": [
    {
     "name": "stdout",
     "output_type": "stream",
     "text": [
      "!\"#$%&'()*+,-./:;<=>?@[\\]^_`{|}~\n",
      "\n"
     ]
    }
   ],
   "source": [
    "print(punctuation)"
   ]
  },
  {
   "cell_type": "code",
   "execution_count": 29,
   "id": "6775f78a",
   "metadata": {},
   "outputs": [
    {
     "name": "stdout",
     "output_type": "stream",
     "text": [
      "{'there': 1, 'broadly': 1, 'types': 1, 'extractive': 1, 'summarization': 12, 'tasks': 1, 'depending': 2, 'program': 1, 'focuses': 2, 'the': 2, 'generic': 3, 'obtaining': 1, 'summary': 4, 'abstract': 2, 'collection': 3, 'documents': 2, 'sets': 1, 'images': 3, 'videos': 3, 'news': 4, 'stories': 1, 'etc': 1, 'second': 1, 'query': 4, 'relevant': 2, 'called': 2, 'based': 1, 'summarizes': 1, 'objects': 1, 'specific': 1, 'systems': 1, 'able': 1, 'create': 1, 'text': 1, 'summaries': 2, 'machine': 1, 'generated': 1, 'user': 1, 'needs': 1, 'an': 1, 'example': 3, 'problem': 2, 'document': 4, 'attempts': 1, 'automatically': 3, 'produce': 1, 'given': 2, 'sometimes': 1, 'interested': 1, 'generating': 1, 'single': 1, 'source': 2, 'use': 1, 'multiple': 1, 'cluster': 1, 'articles': 3, 'topic': 2, 'this': 2, 'multi': 1, 'a': 2, 'related': 2, 'application': 2, 'summarizing': 1, 'imagine': 1, 'system': 3, 'pulls': 1, 'web': 1, 'concisely': 1, 'represents': 1, 'latest': 1, 'image': 2, 'automatic': 1, 'it': 1, 'consists': 1, 'selecting': 1, 'representative': 2, 'set': 2, 'larger': 1, 'images.[3': 1, 'context': 1, 'useful': 1, 'results': 1, 'exploration': 1, 'video': 2, 'domain': 1, 'creates': 1, 'trailer': 1, 'long': 1, 'applications': 1, 'consumer': 1, 'personal': 1, 'want': 2, 'skip': 1, 'boring': 2, 'repetitive': 1, 'actions': 1, 'similarly': 1, 'surveillance': 1, 'extract': 1, 'important': 1, 'suspicious': 1, 'activity': 1, 'ignoring': 1, 'redundant': 1, 'frames': 1, 'captured': 1}\n"
     ]
    }
   ],
   "source": [
    "word_frequency={}\n",
    "for word in doc:\n",
    "    if(word.text not in punctuation and word.text not in stop_word):\n",
    "        if(word.text.lower() in word_frequency):\n",
    "            word_frequency[word.text.lower()]+=1\n",
    "        else:\n",
    "            word_frequency[word.text.lower()]=1\n",
    "\n",
    "print(word_frequency)"
   ]
  },
  {
   "cell_type": "code",
   "execution_count": 30,
   "id": "d4d23f12",
   "metadata": {},
   "outputs": [
    {
     "data": {
      "text/plain": [
       "12"
      ]
     },
     "execution_count": 30,
     "metadata": {},
     "output_type": "execute_result"
    }
   ],
   "source": [
    "max_frequency=max(word_frequency.values())\n",
    "max_frequency"
   ]
  },
  {
   "cell_type": "code",
   "execution_count": 31,
   "id": "b6e3d06f",
   "metadata": {},
   "outputs": [
    {
     "name": "stdout",
     "output_type": "stream",
     "text": [
      "{'there': 0.08333333333333333, 'broadly': 0.08333333333333333, 'types': 0.08333333333333333, 'extractive': 0.08333333333333333, 'summarization': 1.0, 'tasks': 0.08333333333333333, 'depending': 0.16666666666666666, 'program': 0.08333333333333333, 'focuses': 0.16666666666666666, 'the': 0.16666666666666666, 'generic': 0.25, 'obtaining': 0.08333333333333333, 'summary': 0.3333333333333333, 'abstract': 0.16666666666666666, 'collection': 0.25, 'documents': 0.16666666666666666, 'sets': 0.08333333333333333, 'images': 0.25, 'videos': 0.25, 'news': 0.3333333333333333, 'stories': 0.08333333333333333, 'etc': 0.08333333333333333, 'second': 0.08333333333333333, 'query': 0.3333333333333333, 'relevant': 0.16666666666666666, 'called': 0.16666666666666666, 'based': 0.08333333333333333, 'summarizes': 0.08333333333333333, 'objects': 0.08333333333333333, 'specific': 0.08333333333333333, 'systems': 0.08333333333333333, 'able': 0.08333333333333333, 'create': 0.08333333333333333, 'text': 0.08333333333333333, 'summaries': 0.16666666666666666, 'machine': 0.08333333333333333, 'generated': 0.08333333333333333, 'user': 0.08333333333333333, 'needs': 0.08333333333333333, 'an': 0.08333333333333333, 'example': 0.25, 'problem': 0.16666666666666666, 'document': 0.3333333333333333, 'attempts': 0.08333333333333333, 'automatically': 0.25, 'produce': 0.08333333333333333, 'given': 0.16666666666666666, 'sometimes': 0.08333333333333333, 'interested': 0.08333333333333333, 'generating': 0.08333333333333333, 'single': 0.08333333333333333, 'source': 0.16666666666666666, 'use': 0.08333333333333333, 'multiple': 0.08333333333333333, 'cluster': 0.08333333333333333, 'articles': 0.25, 'topic': 0.16666666666666666, 'this': 0.16666666666666666, 'multi': 0.08333333333333333, 'a': 0.16666666666666666, 'related': 0.16666666666666666, 'application': 0.16666666666666666, 'summarizing': 0.08333333333333333, 'imagine': 0.08333333333333333, 'system': 0.25, 'pulls': 0.08333333333333333, 'web': 0.08333333333333333, 'concisely': 0.08333333333333333, 'represents': 0.08333333333333333, 'latest': 0.08333333333333333, 'image': 0.16666666666666666, 'automatic': 0.08333333333333333, 'it': 0.08333333333333333, 'consists': 0.08333333333333333, 'selecting': 0.08333333333333333, 'representative': 0.16666666666666666, 'set': 0.16666666666666666, 'larger': 0.08333333333333333, 'images.[3': 0.08333333333333333, 'context': 0.08333333333333333, 'useful': 0.08333333333333333, 'results': 0.08333333333333333, 'exploration': 0.08333333333333333, 'video': 0.16666666666666666, 'domain': 0.08333333333333333, 'creates': 0.08333333333333333, 'trailer': 0.08333333333333333, 'long': 0.08333333333333333, 'applications': 0.08333333333333333, 'consumer': 0.08333333333333333, 'personal': 0.08333333333333333, 'want': 0.16666666666666666, 'skip': 0.08333333333333333, 'boring': 0.16666666666666666, 'repetitive': 0.08333333333333333, 'actions': 0.08333333333333333, 'similarly': 0.08333333333333333, 'surveillance': 0.08333333333333333, 'extract': 0.08333333333333333, 'important': 0.08333333333333333, 'suspicious': 0.08333333333333333, 'activity': 0.08333333333333333, 'ignoring': 0.08333333333333333, 'redundant': 0.08333333333333333, 'frames': 0.08333333333333333, 'captured': 0.08333333333333333}\n"
     ]
    }
   ],
   "source": [
    "for word in word_frequency.keys():\n",
    "    word_frequency[word] = word_frequency[word]/max_frequency\n",
    "\n",
    "print(word_frequency)"
   ]
  },
  {
   "cell_type": "code",
   "execution_count": 32,
   "id": "470d4bf6",
   "metadata": {},
   "outputs": [],
   "source": [
    "sentense_token=[sent.text.lower() for sent in doc.sents]"
   ]
  },
  {
   "cell_type": "code",
   "execution_count": 33,
   "id": "fec9a841",
   "metadata": {},
   "outputs": [
    {
     "name": "stdout",
     "output_type": "stream",
     "text": [
      "['\\nthere are broadly two types of extractive summarization tasks depending on what the summarization program focuses on.', 'the first is generic summarization, which focuses on obtaining a generic summary or abstract of the collection (whether documents, or sets of images, or videos, news stories etc.).', 'the second is query relevant summarization, sometimes called query-based summarization, which summarizes objects specific to a query.', 'summarization systems are able to create both query relevant text summaries and generic machine-generated summaries depending on what the user needs.\\n', 'an example of a summarization problem is document summarization, which attempts to automatically produce an abstract from a given document.', 'sometimes one might be interested in generating a summary from a single source document, while others can use multiple source documents (for example, a cluster of articles on the same topic).', 'this problem is called multi-document summarization.', 'a related application is summarizing news articles.', 'imagine a system, which automatically pulls together news articles on a given topic (from the web), and concisely represents the latest news as a summary.\\n', 'image collection summarization is another application example of automatic summarization.', 'it consists in selecting a representative set of images from a larger set of images.[3]', 'a summary in this context is useful to show the most representative images of results in an image collection exploration system.', 'video summarization is a related domain, where the system automatically creates a trailer of a long video.', 'this also has applications in consumer or personal videos, where one might want to skip the boring or repetitive actions.', 'similarly, in surveillance videos, one would want to extract important and suspicious activity, while ignoring all the boring and redundant frames captured.\\n']\n"
     ]
    }
   ],
   "source": [
    "print(sentense_token)"
   ]
  },
  {
   "cell_type": "markdown",
   "id": "5179cd29",
   "metadata": {},
   "source": [
    "## Sentence Score"
   ]
  },
  {
   "cell_type": "code",
   "execution_count": 34,
   "id": "502e3868",
   "metadata": {},
   "outputs": [
    {
     "name": "stdout",
     "output_type": "stream",
     "text": [
      "{'\\nthere are broadly two types of extractive summarization tasks depending on what the summarization program focuses on.': 2.3333333333333335, 'the first is generic summarization, which focuses on obtaining a generic summary or abstract of the collection (whether documents, or sets of images, or videos, news stories etc.).': 4.750000000000001, 'the second is query relevant summarization, sometimes called query-based summarization, which summarizes objects specific to a query.': 2.583333333333334, 'summarization systems are able to create both query relevant text summaries and generic machine-generated summaries depending on what the user needs.\\n': 3.5000000000000013, 'an example of a summarization problem is document summarization, which attempts to automatically produce an abstract from a given document.': 2.8333333333333335, 'sometimes one might be interested in generating a summary from a single source document, while others can use multiple source documents (for example, a cluster of articles on the same topic).': 2.7499999999999996, 'this problem is called multi-document summarization.': 2.0833333333333335, 'a related application is summarizing news articles.': 1.1666666666666665, 'imagine a system, which automatically pulls together news articles on a given topic (from the web), and concisely represents the latest news as a summary.\\n': 2.750000000000001, 'image collection summarization is another application example of automatic summarization.': 2.3333333333333335, 'it consists in selecting a representative set of images from a larger set of images.[3]': 1.3333333333333333, 'a summary in this context is useful to show the most representative images of results in an image collection exploration system.': 2.5000000000000004, 'video summarization is a related domain, where the system automatically creates a trailer of a long video.': 2.6666666666666674, 'this also has applications in consumer or personal videos, where one might want to skip the boring or repetitive actions.': 2.083333333333333, 'similarly, in surveillance videos, one would want to extract important and suspicious activity, while ignoring all the boring and redundant frames captured.\\n': 2.0833333333333326}\n"
     ]
    }
   ],
   "source": [
    "sentence_score={}\n",
    "\n",
    "for sentense in sentense_token:\n",
    "    for word in word_frequency:\n",
    "        if(word in sentense):\n",
    "            if(sentense not in sentence_score):\n",
    "                sentence_score[sentense]=word_frequency[word.lower()]\n",
    "            else:\n",
    "                sentence_score[sentense]+=word_frequency[word.lower()]\n",
    "print(sentence_score)"
   ]
  },
  {
   "cell_type": "code",
   "execution_count": 35,
   "id": "a5b96522",
   "metadata": {},
   "outputs": [
    {
     "data": {
      "text/plain": [
       "{'\\nthere are broadly two types of extractive summarization tasks depending on what the summarization program focuses on.': 2.3333333333333335,\n",
       " 'the first is generic summarization, which focuses on obtaining a generic summary or abstract of the collection (whether documents, or sets of images, or videos, news stories etc.).': 4.750000000000001,\n",
       " 'the second is query relevant summarization, sometimes called query-based summarization, which summarizes objects specific to a query.': 2.583333333333334,\n",
       " 'summarization systems are able to create both query relevant text summaries and generic machine-generated summaries depending on what the user needs.\\n': 3.5000000000000013,\n",
       " 'an example of a summarization problem is document summarization, which attempts to automatically produce an abstract from a given document.': 2.8333333333333335,\n",
       " 'sometimes one might be interested in generating a summary from a single source document, while others can use multiple source documents (for example, a cluster of articles on the same topic).': 2.7499999999999996,\n",
       " 'this problem is called multi-document summarization.': 2.0833333333333335,\n",
       " 'a related application is summarizing news articles.': 1.1666666666666665,\n",
       " 'imagine a system, which automatically pulls together news articles on a given topic (from the web), and concisely represents the latest news as a summary.\\n': 2.750000000000001,\n",
       " 'image collection summarization is another application example of automatic summarization.': 2.3333333333333335,\n",
       " 'it consists in selecting a representative set of images from a larger set of images.[3]': 1.3333333333333333,\n",
       " 'a summary in this context is useful to show the most representative images of results in an image collection exploration system.': 2.5000000000000004,\n",
       " 'video summarization is a related domain, where the system automatically creates a trailer of a long video.': 2.6666666666666674,\n",
       " 'this also has applications in consumer or personal videos, where one might want to skip the boring or repetitive actions.': 2.083333333333333,\n",
       " 'similarly, in surveillance videos, one would want to extract important and suspicious activity, while ignoring all the boring and redundant frames captured.\\n': 2.0833333333333326}"
      ]
     },
     "execution_count": 35,
     "metadata": {},
     "output_type": "execute_result"
    }
   ],
   "source": [
    "sentence_score"
   ]
  },
  {
   "cell_type": "code",
   "execution_count": 36,
   "id": "19302cce",
   "metadata": {},
   "outputs": [],
   "source": [
    "from heapq import nlargest"
   ]
  },
  {
   "cell_type": "code",
   "execution_count": 53,
   "id": "fc5dc8d4",
   "metadata": {},
   "outputs": [],
   "source": [
    "desired_length=int(max_frequency*0.4)"
   ]
  },
  {
   "cell_type": "code",
   "execution_count": 54,
   "id": "1435bb94",
   "metadata": {},
   "outputs": [
    {
     "data": {
      "text/plain": [
       "4"
      ]
     },
     "execution_count": 54,
     "metadata": {},
     "output_type": "execute_result"
    }
   ],
   "source": [
    "desired_length"
   ]
  },
  {
   "cell_type": "code",
   "execution_count": 55,
   "id": "65779450",
   "metadata": {},
   "outputs": [],
   "source": [
    "summary=nlargest(desired_length,sentence_score,key=sentence_score.get)"
   ]
  },
  {
   "cell_type": "code",
   "execution_count": 56,
   "id": "251c2361",
   "metadata": {},
   "outputs": [
    {
     "data": {
      "text/plain": [
       "['the first is generic summarization, which focuses on obtaining a generic summary or abstract of the collection (whether documents, or sets of images, or videos, news stories etc.).',\n",
       " 'summarization systems are able to create both query relevant text summaries and generic machine-generated summaries depending on what the user needs.\\n',\n",
       " 'an example of a summarization problem is document summarization, which attempts to automatically produce an abstract from a given document.',\n",
       " 'imagine a system, which automatically pulls together news articles on a given topic (from the web), and concisely represents the latest news as a summary.\\n']"
      ]
     },
     "execution_count": 56,
     "metadata": {},
     "output_type": "execute_result"
    }
   ],
   "source": [
    "summary"
   ]
  },
  {
   "cell_type": "code",
   "execution_count": 57,
   "id": "ac18c733",
   "metadata": {},
   "outputs": [
    {
     "data": {
      "text/plain": [
       "'the first is generic summarization, which focuses on obtaining a generic summary or abstract of the collection (whether documents, or sets of images, or videos, news stories etc.).summarization systems are able to create both query relevant text summaries and generic machine-generated summaries depending on what the user needs.\\nan example of a summarization problem is document summarization, which attempts to automatically produce an abstract from a given document.imagine a system, which automatically pulls together news articles on a given topic (from the web), and concisely represents the latest news as a summary.\\n'"
      ]
     },
     "execution_count": 57,
     "metadata": {},
     "output_type": "execute_result"
    }
   ],
   "source": [
    "final_summary=\"\".join(summary)\n",
    "final_summary"
   ]
  },
  {
   "cell_type": "code",
   "execution_count": null,
   "id": "19f7dc25",
   "metadata": {},
   "outputs": [],
   "source": []
  }
 ],
 "metadata": {
  "kernelspec": {
   "display_name": "venv",
   "language": "python",
   "name": "python3"
  },
  "language_info": {
   "codemirror_mode": {
    "name": "ipython",
    "version": 3
   },
   "file_extension": ".py",
   "mimetype": "text/x-python",
   "name": "python",
   "nbconvert_exporter": "python",
   "pygments_lexer": "ipython3",
   "version": "3.12.3"
  }
 },
 "nbformat": 4,
 "nbformat_minor": 5
}

{
 "cells": [
  {
   "cell_type": "code",
   "execution_count": 1,
   "id": "361cec34",
   "metadata": {},
   "outputs": [
    {
     "name": "stderr",
     "output_type": "stream",
     "text": [
      "2025-07-04 11:50:32.133092: I tensorflow/core/util/port.cc:153] oneDNN custom operations are on. You may see slightly different numerical results due to floating-point round-off errors from different computation orders. To turn them off, set the environment variable `TF_ENABLE_ONEDNN_OPTS=0`.\n",
      "2025-07-04 11:50:32.249255: E external/local_xla/xla/stream_executor/cuda/cuda_fft.cc:467] Unable to register cuFFT factory: Attempting to register factory for plugin cuFFT when one has already been registered\n",
      "WARNING: All log messages before absl::InitializeLog() is called are written to STDERR\n",
      "E0000 00:00:1751610032.297397   35660 cuda_dnn.cc:8579] Unable to register cuDNN factory: Attempting to register factory for plugin cuDNN when one has already been registered\n",
      "E0000 00:00:1751610032.314408   35660 cuda_blas.cc:1407] Unable to register cuBLAS factory: Attempting to register factory for plugin cuBLAS when one has already been registered\n",
      "W0000 00:00:1751610032.420441   35660 computation_placer.cc:177] computation placer already registered. Please check linkage and avoid linking the same target more than once.\n",
      "W0000 00:00:1751610032.420481   35660 computation_placer.cc:177] computation placer already registered. Please check linkage and avoid linking the same target more than once.\n",
      "W0000 00:00:1751610032.420485   35660 computation_placer.cc:177] computation placer already registered. Please check linkage and avoid linking the same target more than once.\n",
      "W0000 00:00:1751610032.420488   35660 computation_placer.cc:177] computation placer already registered. Please check linkage and avoid linking the same target more than once.\n",
      "2025-07-04 11:50:32.435548: I tensorflow/core/platform/cpu_feature_guard.cc:210] This TensorFlow binary is optimized to use available CPU instructions in performance-critical operations.\n",
      "To enable the following instructions: AVX2 AVX_VNNI FMA, in other operations, rebuild TensorFlow with the appropriate compiler flags.\n"
     ]
    }
   ],
   "source": [
    "from tensorflow import keras\n",
    "import numpy\n",
    "import pickle\n",
    "import matplotlib.pyplot as plt"
   ]
  },
  {
   "cell_type": "code",
   "execution_count": 2,
   "id": "f279a169",
   "metadata": {},
   "outputs": [],
   "source": [
    "from keras.preprocessing import sequence\n",
    "from keras.utils import to_categorical\n",
    "import random, sys"
   ]
  },
  {
   "cell_type": "code",
   "execution_count": 3,
   "id": "736c8dbc",
   "metadata": {},
   "outputs": [],
   "source": [
    "maxinp=25\n",
    "maxend=25\n",
    "rnn_size=512\n",
    "max_len=maxinp+maxend\n",
    "batch_norm=False\n",
    "rnn_layer=3"
   ]
  },
  {
   "cell_type": "code",
   "execution_count": 4,
   "id": "3dc88500",
   "metadata": {},
   "outputs": [],
   "source": [
    "activation_rnn_size = 40 if maxend else 0"
   ]
  },
  {
   "cell_type": "code",
   "execution_count": 5,
   "id": "0ad963f6",
   "metadata": {},
   "outputs": [],
   "source": [
    "with open(\"data/vocab-embedding.pkl\",\"rb\") as p:\n",
    "    embedding,id2word,word2dic,glove_id2idx=pickle.load(p)\n",
    "\n",
    "vocab_size,embedding_size=embedding.shape"
   ]
  },
  {
   "cell_type": "code",
   "execution_count": 6,
   "id": "96be7fa5",
   "metadata": {},
   "outputs": [
    {
     "name": "stdout",
     "output_type": "stream",
     "text": [
      "Vocab Size: 40000\n",
      "Embedding Size: 200\n"
     ]
    }
   ],
   "source": [
    "print(\"Vocab Size:\",vocab_size)\n",
    "print(\"Embedding Size:\",embedding_size)"
   ]
  },
  {
   "cell_type": "code",
   "execution_count": 7,
   "id": "8bfcf0b9",
   "metadata": {},
   "outputs": [],
   "source": [
    "with open(\"data/vocab-embedding.data.pkl\",\"rb\") as p:\n",
    "    X,Y=pickle.load(p)\n",
    "\n",
    "nb_unknow_word=10"
   ]
  },
  {
   "cell_type": "code",
   "execution_count": 8,
   "id": "9d9b8d99",
   "metadata": {},
   "outputs": [
    {
     "name": "stdout",
     "output_type": "stream",
     "text": [
      "vocabulary size 40000 the last 10 words can be used as place holders for unknown/oov words\n",
      "total number of different words 5456672 5456672\n",
      "number of words outside vocabulary which we can substitute using glove similarity 106991\n",
      "number of words that will be regarded as unknown(unk)/out-of-vocabulary(oov) 5416672\n"
     ]
    }
   ],
   "source": [
    "print('vocabulary size', vocab_size, 'the last %d words can be used as place holders for unknown/oov words' % nb_unknow_word)\n",
    "print('total number of different words', len(id2word), len(word2dic))\n",
    "print('number of words outside vocabulary which we can substitute using glove similarity', len(glove_id2idx))\n",
    "print('number of words that will be regarded as unknown(unk)/out-of-vocabulary(oov)', len(id2word) - vocab_size)"
   ]
  },
  {
   "cell_type": "code",
   "execution_count": 9,
   "id": "b073ceb8",
   "metadata": {},
   "outputs": [],
   "source": [
    "for i in range(nb_unknow_word):\n",
    "    id2word[vocab_size-1-i] = '<%d>'%i"
   ]
  },
  {
   "cell_type": "code",
   "execution_count": 10,
   "id": "5103bb9f",
   "metadata": {},
   "outputs": [],
   "source": [
    "oov0 = vocab_size-nb_unknow_word"
   ]
  },
  {
   "cell_type": "code",
   "execution_count": 11,
   "id": "2bebe773",
   "metadata": {},
   "outputs": [],
   "source": [
    "for i in range(oov0, len(id2word)):\n",
    "    id2word[i] = id2word[i]+'^'"
   ]
  },
  {
   "cell_type": "code",
   "execution_count": 12,
   "id": "109e9f4e",
   "metadata": {},
   "outputs": [
    {
     "data": {
      "text/plain": [
       "(800000, 800000, 200000, 200000)"
      ]
     },
     "execution_count": 12,
     "metadata": {},
     "output_type": "execute_result"
    }
   ],
   "source": [
    "from sklearn.model_selection import train_test_split\n",
    "X_train, X_test, Y_train, Y_test = train_test_split(X, Y, test_size=0.2, random_state=42)\n",
    "len(X_train), len(Y_train), len(X_test), len(Y_test)"
   ]
  },
  {
   "cell_type": "markdown",
   "id": "557c1e54",
   "metadata": {},
   "source": [
    "Deallocating Memory"
   ]
  },
  {
   "cell_type": "code",
   "execution_count": 13,
   "id": "98ec6d04",
   "metadata": {},
   "outputs": [],
   "source": [
    "del X\n",
    "del Y"
   ]
  },
  {
   "cell_type": "code",
   "execution_count": 14,
   "id": "c13817f6",
   "metadata": {},
   "outputs": [],
   "source": [
    "empty = 0\n",
    "eos = 1\n",
    "id2word[empty] = '_'\n",
    "id2word[eos] = '~'"
   ]
  },
  {
   "cell_type": "code",
   "execution_count": 15,
   "id": "9e6e7021",
   "metadata": {},
   "outputs": [],
   "source": [
    "def prt(label, x):\n",
    "    print(label + ':', ' '.join(id2word[w] for w in x))"
   ]
  },
  {
   "cell_type": "code",
   "execution_count": 16,
   "id": "462b94d8",
   "metadata": {},
   "outputs": [
    {
     "name": "stdout",
     "output_type": "stream",
     "text": [
      "H: AFL finals 2015: Hawthorn defeat Fremantle,^ stay on track to make it three-in-a-row^\n",
      "D: HAWTHORN^ 5.2 7.2 11.3^ 15.4^ (94)^ FREMANTLE^ 2.1 4.4 8.4 10.7^ (67)^ Goals:^ Hawthorn:^ C Rioli^ 3, J Roughead^ 2, M Suckling^ 2, R Schoenmakers^ 2, B Hill, B McEvoy,^ D Hale,^ I Smith, L Breust,^ T Duryea.^ Fremantle:^ M Walters 3, J Griffin 2, C Mayne,^ H Ballantyne,^ M Barlow,^ M Pavlich,^ S Hill. BEST:^ Hawthorn:^ S Mitchell, L Hodge,^ T Duryea,^ I Smith, C Rioli,^ B Lake. Fremantle:^ D Mundy,^ L Spurr,^ N Fyfe,^ G Ibbotson,^ M Walters,^ J Griffin.^ Umpires:^ Matt Stevic,^ Jeff Dalgleish,^ Brett Rosebury.^ Official Crowd:^ 41,508^ at Domain Stadium. Hawthorn's^ chances of an amazing premiership three-peat^ remain very much intact. The Hawks withstood^ a dogged Fremantle to win their preliminary final by 27 points at Domain Stadium on Friday night. The Hawks led by 17 points at the final term, but that was scaled back to just nine points very quickly after the restart and the Dockers seemed to take control of the game. The prize of a week's break for beating the Sydney Swans in a qualifying final was eventually the difference. The Dockers have not been the best final-quarter^ side this year, with a 12-11^ record. The Hawks had won 19 of 24 fourth terms in 2015. But Fremantle failed to make the most of their chances early in the final term at one end. And at the other, defensive errors midway through the final term were costly.^ Cyril Rioli^ made them pay on both occasions, with consecutive goals that put the result beyond doubt. The Hawks will play in their fourth consecutive grand final next Saturday at the MCG,^ against either West Coast or North Melbourne. The Dockers become the first side since Adelaide in 2005 to miss out on a grand final berth after having finished the home and away season on top of the ladder.^ For the first 10 minutes of the game it appeared as though having to travel to Perth twice in just over two weeks was too much for the reigning premier.^ That's when Chris Mayne,^ playing in his 150th^ AFL game, walked in deliberately,^ looking to kick his side's third goal and give Fremantle an early 16-point^ lead. The minor premiers were doing a great job at bottling^ the ball up in the midfield and winning the clearances.^ They then took turns in running into an open forward line. It worked so well and resulted in goals to Michael Walters and Jon Griffin – and should have worked for Mayne^ too. But he missed and the momentum of the game swung back to Hawthorn.^ Five minutes later the Hawks had the lead and they weren't made to work anywhere near as hard for it as they should have. Two goals came from ill-discipline.^ Hayden Ballantyne^ was the first culprit,^ felling^ Matthew Suckling^ outside the Hawks attacking 50. The Dockers defender who had the ball was forced to hand it over to Isaac Smith, who kicked the Hawks'^ first goal. David Hale was the recipient of a freebie^ five minutes later. He was 65m^ from goal when his skipper Luke Hodge was barged^ into. Hale went to the goalline,^ kicked truly and the Hawks had the lead. You can't give the Hawks goals away that easily. To compound the Dockers issues, their star midfielder Nat Fyfe was struggling.^ He hit a contest hard early in the game and collided with Brian Lake who was, playing his 250th^ game. Fyfe came off second best spent a lot of the first term on the bench with ice on his calf.^ He stayed on and was clearly labouring,^ but still finished with ??? possessions.^ Meanwhile, the Hawks key playmakers,^ Hodge and Sam Mitchell were getting plenty of the ball. They had 33 possessions between them in the first half, equal to the number of times they were booed by the very vocal Fremantle crowd. The attention made little difference. There was no way Ryan Crowley should have played on Friday night, having not played any football all year, but surely someone else could have played tightly on Mitchell.^ Whoever plays the Hawks next week surely won't afford him that much room. The Hawks kicked five goals to end the first term, Ryan Schoenmakers^ kicking one right on the quarter-time^ siren^ to make the margin 19 points. His goal a minute into the second term hurt the home side even more. The scoring slowed right down after that, both sides kicking two goals apiece in the second term. Again the Dockers missed a chance to kick an important goal as Griffin hit the post after the half-time siren,^ having taken a huge mark just before it. Goal-scoring^ has been an issue for Fremantle for a while;^ it cost them the premiership in 2013 when the Hawks beat them 11.11^ to 8.14.^ It hurt them again on Friday night. So did not having Luke McPharlin^ in defence. The veteran key defender is the marshall^ of the Docker defence, but has been missing for the entire finals series with a calf injury. The results was nine Hawks players kicking goals in their first 10, six of them courtesy of marks inside their forward 50 that McPharlin^ would usually have been there to contest. He would not have been able to do anything when Matthew Suckling^ kicked a goal from well outside 50 after the three-quarter-time^ siren^ to give the Hawks a 17-point^ lead and a good look at another grand final.\n"
     ]
    }
   ],
   "source": [
    "i = 334\n",
    "prt('H',Y_train[i])\n",
    "prt('D',X_train[i])"
   ]
  },
  {
   "cell_type": "markdown",
   "id": "66bf7995",
   "metadata": {},
   "source": [
    "## Model"
   ]
  },
  {
   "cell_type": "code",
   "execution_count": 17,
   "id": "f38d000d",
   "metadata": {},
   "outputs": [],
   "source": [
    "from tensorflow.keras import Sequential,Model\n",
    "from tensorflow.keras.layers import Dropout,Dense,Activation,LSTM,Embedding,Input\n",
    "from keras.regularizers import l2"
   ]
  },
  {
   "cell_type": "code",
   "execution_count": 18,
   "id": "bea5dce8",
   "metadata": {},
   "outputs": [],
   "source": [
    "seed=42\n",
    "p_W, p_U, p_dense, p_emb, weight_decay = 0, 0, 0, 0, 0"
   ]
  },
  {
   "cell_type": "code",
   "execution_count": 19,
   "id": "71842f1f",
   "metadata": {},
   "outputs": [],
   "source": [
    "if weight_decay:\n",
    "    regularizer =l2(weight_decay)\n",
    "else:\n",
    "    regularizer = None"
   ]
  },
  {
   "cell_type": "code",
   "execution_count": 21,
   "id": "9d4dbb31",
   "metadata": {},
   "outputs": [
    {
     "name": "stdout",
     "output_type": "stream",
     "text": [
      "[[-0.16595946  0.59620893  0.30688367 ...  0.52530101  0.51204139\n",
      "   0.37022188]\n",
      " [ 0.18788074 -0.55010338 -0.44760057 ... -0.09392734  0.3318545\n",
      "   0.3367116 ]\n",
      " [-0.52499131  0.5325006   0.00694789 ... -0.43345821 -0.40704285\n",
      "  -0.60734311]\n",
      " ...\n",
      " [ 0.08179     0.33201     0.44588    ...  0.049709    0.42913\n",
      "   0.59722   ]\n",
      " [ 0.26888187  0.06740113  0.0574175  ...  0.23792921 -0.13171033\n",
      "  -0.15737504]\n",
      " [ 0.30236874  0.30146587  0.44450368 ... -0.35245502 -0.09802368\n",
      "   0.43994565]]\n"
     ]
    }
   ],
   "source": [
    "print(embedding)"
   ]
  }
 ],
 "metadata": {
  "kernelspec": {
   "display_name": "venv",
   "language": "python",
   "name": "python3"
  },
  "language_info": {
   "codemirror_mode": {
    "name": "ipython",
    "version": 3
   },
   "file_extension": ".py",
   "mimetype": "text/x-python",
   "name": "python",
   "nbconvert_exporter": "python",
   "pygments_lexer": "ipython3",
   "version": "3.12.3"
  }
 },
 "nbformat": 4,
 "nbformat_minor": 5
}

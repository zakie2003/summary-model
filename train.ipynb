{
 "cells": [
  {
   "cell_type": "markdown",
   "id": "22ecdec5",
   "metadata": {},
   "source": [
    "## Importing Modules"
   ]
  },
  {
   "cell_type": "code",
   "execution_count": 1,
   "id": "b45e274a",
   "metadata": {},
   "outputs": [
    {
     "name": "stderr",
     "output_type": "stream",
     "text": [
      "2025-07-03 12:23:35.507075: I tensorflow/core/util/port.cc:153] oneDNN custom operations are on. You may see slightly different numerical results due to floating-point round-off errors from different computation orders. To turn them off, set the environment variable `TF_ENABLE_ONEDNN_OPTS=0`.\n",
      "2025-07-03 12:23:35.519844: E external/local_xla/xla/stream_executor/cuda/cuda_fft.cc:467] Unable to register cuFFT factory: Attempting to register factory for plugin cuFFT when one has already been registered\n",
      "WARNING: All log messages before absl::InitializeLog() is called are written to STDERR\n",
      "E0000 00:00:1751525615.532968   44485 cuda_dnn.cc:8579] Unable to register cuDNN factory: Attempting to register factory for plugin cuDNN when one has already been registered\n",
      "E0000 00:00:1751525615.536490   44485 cuda_blas.cc:1407] Unable to register cuBLAS factory: Attempting to register factory for plugin cuBLAS when one has already been registered\n",
      "W0000 00:00:1751525615.546201   44485 computation_placer.cc:177] computation placer already registered. Please check linkage and avoid linking the same target more than once.\n",
      "W0000 00:00:1751525615.546251   44485 computation_placer.cc:177] computation placer already registered. Please check linkage and avoid linking the same target more than once.\n",
      "W0000 00:00:1751525615.546253   44485 computation_placer.cc:177] computation placer already registered. Please check linkage and avoid linking the same target more than once.\n",
      "W0000 00:00:1751525615.546256   44485 computation_placer.cc:177] computation placer already registered. Please check linkage and avoid linking the same target more than once.\n",
      "2025-07-03 12:23:35.549637: I tensorflow/core/platform/cpu_feature_guard.cc:210] This TensorFlow binary is optimized to use available CPU instructions in performance-critical operations.\n",
      "To enable the following instructions: AVX2 AVX_VNNI FMA, in other operations, rebuild TensorFlow with the appropriate compiler flags.\n"
     ]
    }
   ],
   "source": [
    "import pandas as pd\n",
    "import tensorflow as tf\n",
    "from tensorflow import keras\n",
    "import matplotlib.pyplot as plt"
   ]
  },
  {
   "cell_type": "markdown",
   "id": "4bf96744",
   "metadata": {},
   "source": [
    "## 🔍 Checking Available Devices\n",
    "\n",
    "In the following code cell, we list the hardware devices (such as CPUs and GPUs) available to TensorFlow. This check helps confirm whether TensorFlow can access a GPU for faster training or if it will fall back to using the CPU.  \n",
    "Using the appropriate hardware can significantly improve training performance and reduce training time.\n"
   ]
  },
  {
   "cell_type": "code",
   "execution_count": 2,
   "id": "33e46ef6",
   "metadata": {},
   "outputs": [
    {
     "name": "stdout",
     "output_type": "stream",
     "text": [
      "Devices available: [PhysicalDevice(name='/physical_device:CPU:0', device_type='CPU'), PhysicalDevice(name='/physical_device:GPU:0', device_type='GPU')]\n"
     ]
    }
   ],
   "source": [
    "print(\"Devices available:\", tf.config.list_physical_devices())"
   ]
  },
  {
   "cell_type": "code",
   "execution_count": 3,
   "id": "4cf38be6",
   "metadata": {},
   "outputs": [],
   "source": [
    "device=\"CPU\"\n",
    "if tf.config.list_physical_devices('GPU'):\n",
    "    device=\"GPU\""
   ]
  },
  {
   "cell_type": "code",
   "execution_count": 4,
   "id": "c57adb56",
   "metadata": {},
   "outputs": [],
   "source": [
    "fno0='vocabulary-embedding'"
   ]
  },
  {
   "cell_type": "code",
   "execution_count": 5,
   "id": "cdde606e",
   "metadata": {},
   "outputs": [],
   "source": [
    "fn1='train'"
   ]
  },
  {
   "cell_type": "code",
   "execution_count": 6,
   "id": "e4ac08ec",
   "metadata": {},
   "outputs": [],
   "source": [
    "maxlend=25\n",
    "maxlenh=25\n",
    "maxlen=maxlend+maxlenh\n",
    "rnn_size=512\n",
    "rnn_layer=3\n",
    "batch_norm=False\n"
   ]
  },
  {
   "cell_type": "code",
   "execution_count": 7,
   "id": "b114bde5",
   "metadata": {},
   "outputs": [],
   "source": [
    "activation_rnn_size=40 if maxlend > 20 else 0"
   ]
  },
  {
   "cell_type": "code",
   "execution_count": 8,
   "id": "67c2dd26",
   "metadata": {},
   "outputs": [],
   "source": [
    "seed = 42\n",
    "otimizer='adam'\n",
    "batch_size=64"
   ]
  },
  {
   "cell_type": "code",
   "execution_count": 9,
   "id": "a98d552a",
   "metadata": {},
   "outputs": [],
   "source": [
    "nb_train_sample=30000\n",
    "nb_val_sample=3000"
   ]
  },
  {
   "cell_type": "code",
   "execution_count": 10,
   "id": "acd9e255",
   "metadata": {},
   "outputs": [],
   "source": [
    "\n",
    "df=pd.read_json(\"data/signalmedia-1m.jsonl/sample-1M.jsonl\", lines=True)"
   ]
  },
  {
   "cell_type": "code",
   "execution_count": 11,
   "id": "c8337733",
   "metadata": {},
   "outputs": [
    {
     "name": "stdout",
     "output_type": "stream",
     "text": [
      "                                             content  \\\n",
      "0  VETERANS saluted Worcester's first ever breakf...   \n",
      "1  New Product Gives Marketers Access to Real Key...   \n",
      "2  Home »\\rStyle » The Return Of The Nike Air Max...   \n",
      "3  NYMag.com Daily Intelligencer Vulture The Cut ...   \n",
      "4  KUALA LUMPUR, Sept 15 (MySinchew) -- The Kuala...   \n",
      "\n",
      "                                               title  \n",
      "0  Worcester breakfast club for veterans gives hu...  \n",
      "1  Jumpshot Gives Marketers Renewed Visibility In...  \n",
      "2  The Return Of The Nike Air Max Sensation Has 8...  \n",
      "3   This New Dating App Will Ruin Your Internet Game  \n",
      "4                  Pay up or face legal action: DBKL  \n"
     ]
    }
   ],
   "source": [
    "df=df.drop(columns=[\"id\",\"media-type\",\"published\",\"source\"])\n",
    "print(df.head())"
   ]
  },
  {
   "cell_type": "code",
   "execution_count": 12,
   "id": "f506af63",
   "metadata": {},
   "outputs": [
    {
     "name": "stdout",
     "output_type": "stream",
     "text": [
      "Worcester breakfast club for veterans gives hunger its marching orders\n",
      "VETERANS saluted Worcester's first ever breakfast club for ex-soldiers which won over hearts, minds and bellies. \n",
      " \n",
      "The Worcester Breakfast Club for HM Forces Veterans met at the Postal Order in Foregate Street at 10am on Saturday. \n",
      " \n",
      "The club is designed to allow veterans a place to meet, socialise, eat and drink, giving hunger and loneliness their marching orders. \n",
      " \n",
      "Father-of-two Dave Carney, aged 43, of Merrimans Hill, Worcester, set up the club after being inspired by other similar clubs across the country. \n",
      " \n",
      "He said: \"As you can see from the picture, we had a good response. Five out of the 10 that attended said they saw the article in the newspaper and turned up. \n",
      " \n",
      "\"We even had an old chap travel from Droitwich and he was late on parade by three hours. \n",
      " \n",
      "\"It's generated a lot of interest and I estimate (from other veterans who saw the article) that next month's meeting will attract about 20 people. Onwards and upwards.\" \n",
      " \n",
      "He said the management at the pub had been extremely hospitable to them. \n",
      " \n",
      "Mr Carney said: \"They bent over backwards for us. They really looked after us well. That is the best choice of venue I could have made. They even put 'reserved for the armed forces'. \n",
      "   Promoted stories   \n",
      "The reserve veteran with the Royal Engineers wanted to go to a breakfast club but found the nearest ones were in Bromsgrove and Gloucester so he decided to set up his own, closer to home. \n",
      " \n",
      "He was influenced by Derek Hardman who set up a breakfast club for veterans in Hull and Andy Wilson who set one up in Newcastle. He said the idea has snowballed and there were now 70 similar clubs across the country and even some in Germany. \n",
      " \n",
      "Mr Carney said with many Royal British Legion clubs closing he wanted veterans and serving personnel to feel they had somewhere they could go for good grub, beer and banter to recapture the comradery of being in the forces. \n",
      " \n",
      "The Postal Order was chosen because of its central location and its proximity to the railway station and hotels and reasonably priced food and drink. \n",
      " \n",
      "The management of the pub have even given the veterans a designated area within the pub. \n",
      "   \n",
      " Share article  \n",
      "   \n",
      "The next meeting is at the Postal Order on Saturday, October 3 at 10am. \n",
      " \n",
      "The breakfast club meets on the first Saturday of each month for those who want to attend in future.\n"
     ]
    }
   ],
   "source": [
    "sample = df.head(1)\n",
    "content_list = df[\"content\"].tolist()\n",
    "title_list = df[\"title\"].tolist()\n",
    "\n",
    "\n",
    "print(title_list[0])\n",
    "print(content_list[0])\n"
   ]
  },
  {
   "cell_type": "markdown",
   "id": "d8c71070",
   "metadata": {},
   "source": [
    "## Build Vocablury"
   ]
  },
  {
   "cell_type": "code",
   "execution_count": 13,
   "id": "13eab85f",
   "metadata": {},
   "outputs": [],
   "source": [
    "from collections import Counter\n",
    "from itertools import chain\n",
    "def get_vocab(lst):\n",
    "    vocabcount=Counter(w for txt in lst for w in txt.split())\n",
    "    vocab = map(lambda x: x[0], sorted(vocabcount.items(), key=lambda x: -x[1]))\n",
    "    return vocab, vocabcount"
   ]
  },
  {
   "cell_type": "code",
   "execution_count": 14,
   "id": "2717f051",
   "metadata": {},
   "outputs": [],
   "source": [
    "vocal,vocab_count=get_vocab(title_list+content_list)"
   ]
  },
  {
   "cell_type": "code",
   "execution_count": 15,
   "id": "a52b7b83",
   "metadata": {},
   "outputs": [
    {
     "name": "stdout",
     "output_type": "stream",
     "text": [
      "['the', 'and', 'to', 'of', 'a', 'in', 'for', 'is', 'on', 'that', 'with', 'The', 'at', 'as', 'was', 'be', 'are', 'by', 'from', 'have', 'has', 'it', 'will', 'I', 'this', 'an', 'or', 'you', 'not', 'his', 'he', 'their', 'more', 'but', 'said', '-', 'they', 'who', 'we', 'can', 'which', 'its', 'been', 'about', 'all', 'had', 'also', 'our', 'were', 'one']\n",
      "5456668\n"
     ]
    }
   ],
   "source": [
    "vocab=list(vocal)\n",
    "print(vocab[:50])\n",
    "print(len(vocab))"
   ]
  },
  {
   "cell_type": "code",
   "execution_count": 16,
   "id": "3d132825",
   "metadata": {},
   "outputs": [
    {
     "data": {
      "text/plain": [
       "Text(0, 0.5, 'total appearances')"
      ]
     },
     "execution_count": 16,
     "metadata": {},
     "output_type": "execute_result"
    },
    {
     "data": {
      "image/png": "[encoded data removed]",
      "text/plain": [
       "<Figure size 640x480 with 1 Axes>"
      ]
     },
     "metadata": {},
     "output_type": "display_data"
    }
   ],
   "source": [
    "plt.plot([vocab_count[w] for w in vocab])\n",
    "plt.gca().set_xscale(\"log\")\n",
    "plt.gca().set_yscale(\"log\")\n",
    "plt.title('word distribution in headlines and discription')\n",
    "plt.xlabel('rank')\n",
    "plt.ylabel('total appearances')"
   ]
  },
  {
   "cell_type": "markdown",
   "id": "f79ce75b",
   "metadata": {},
   "source": [
    "## Index Count"
   ]
  },
  {
   "cell_type": "code",
   "execution_count": 17,
   "id": "6e2a89a4",
   "metadata": {},
   "outputs": [],
   "source": [
    "empty = 0 # RNN mask of no data\n",
    "eos = 1  # end of sentence\n",
    "start_idx = eos+1 # first real word"
   ]
  },
  {
   "cell_type": "code",
   "execution_count": 18,
   "id": "8398be2f",
   "metadata": {},
   "outputs": [],
   "source": [
    "def get_idx(vocab, vocabcount):\n",
    "    word2idx = dict((word, idx+start_idx) for idx,word in enumerate(vocab))\n",
    "    word2idx['<empty>'] = empty\n",
    "    word2idx['<eos>'] = eos\n",
    "    \n",
    "    idx2word = dict((idx,word) for word,idx in word2idx.items())\n",
    "\n",
    "    return word2idx, idx2word"
   ]
  },
  {
   "cell_type": "code",
   "execution_count": 19,
   "id": "d5d5b298",
   "metadata": {},
   "outputs": [],
   "source": [
    "word2idx, idx2word = get_idx(vocab, vocab_count)"
   ]
  },
  {
   "cell_type": "code",
   "execution_count": 20,
   "id": "178c7b86",
   "metadata": {},
   "outputs": [],
   "source": [
    "embedding_dim=200"
   ]
  },
  {
   "cell_type": "code",
   "execution_count": null,
   "id": "7cb05c39",
   "metadata": {},
   "outputs": [],
   "source": [
    "fname = 'glove.6B.%dd.txt'%embedding_dim\n",
    "import os\n",
    "glove_name=f\"data/glove/{fname}\""
   ]
  },
  {
   "cell_type": "code",
   "execution_count": 22,
   "id": "45d99e12",
   "metadata": {},
   "outputs": [
    {
     "name": "stdout",
     "output_type": "stream",
     "text": [
      "400000\n"
     ]
    }
   ],
   "source": [
    "with open(glove_name, \"r\", encoding=\"utf8\") as f:\n",
    "    glove_n_symbols = sum(1 for _ in f)\n",
    "print(glove_n_symbols)"
   ]
  },
  {
   "cell_type": "code",
   "execution_count": 23,
   "id": "a4d7dfe8",
   "metadata": {},
   "outputs": [],
   "source": [
    "import numpy as np\n",
    "glove_index_dict = {}\n",
    "glove_embedding_weights = np.empty((glove_n_symbols, embedding_dim))\n",
    "globale_scale=.1\n",
    "with open(glove_name, 'r') as fp:\n",
    "    i = 0\n",
    "    for l in fp:\n",
    "        l = l.strip().split()\n",
    "        w = l[0]\n",
    "        glove_index_dict[w] = i\n",
    "        glove_embedding_weights[i,:] = list(map(float,l[1:]))\n",
    "        i += 1"
   ]
  },
  {
   "cell_type": "code",
   "execution_count": 24,
   "id": "e670b5c6",
   "metadata": {},
   "outputs": [
    {
     "data": {
      "text/plain": [
       "np.float64(0.3818620572721229)"
      ]
     },
     "execution_count": 24,
     "metadata": {},
     "output_type": "execute_result"
    }
   ],
   "source": [
    "glove_embedding_weights.std()"
   ]
  },
  {
   "cell_type": "code",
   "execution_count": 25,
   "id": "a757c493",
   "metadata": {},
   "outputs": [],
   "source": [
    "for w,i in glove_index_dict.items():\n",
    "    w = w.lower()\n",
    "    if w not in glove_index_dict:\n",
    "        glove_index_dict[w] = i"
   ]
  },
  {
   "cell_type": "markdown",
   "id": "e663b6f6",
   "metadata": {},
   "source": [
    "## Embeding Matrix"
   ]
  },
  {
   "cell_type": "code",
   "execution_count": 26,
   "id": "14ac1146",
   "metadata": {},
   "outputs": [],
   "source": [
    "vocab_size=40000"
   ]
  },
  {
   "cell_type": "code",
   "execution_count": 27,
   "id": "33c5ffcb",
   "metadata": {},
   "outputs": [
    {
     "name": "stdout",
     "output_type": "stream",
     "text": [
      "random-embedding/glove scale 0.6614044846780933 std 0.3818428118573993\n",
      "number of tokens, in small vocab, found in glove and copied to embedding 27785 0.694625\n"
     ]
    }
   ],
   "source": [
    "np.random.seed(seed)\n",
    "shape = (vocab_size, embedding_dim)\n",
    "scale = glove_embedding_weights.std()*np.sqrt(12)/2 # uniform and not normal\n",
    "embedding = np.random.uniform(low=-scale, high=scale, size=shape)\n",
    "print ('random-embedding/glove scale', scale, 'std', embedding.std())\n",
    "\n",
    "# copy from glove weights of words that appear in our short vocabulary (idx2word)\n",
    "c = 0\n",
    "for i in range(vocab_size):\n",
    "    w = idx2word[i]\n",
    "    g = glove_index_dict.get(w, glove_index_dict.get(w.lower()))\n",
    "    if g is None and w.startswith('#'): # glove has no hastags (I think...)\n",
    "        w = w[1:]\n",
    "        g = glove_index_dict.get(w, glove_index_dict.get(w.lower()))\n",
    "    if g is not None:\n",
    "        embedding[i,:] = glove_embedding_weights[g,:]\n",
    "        c+=1\n",
    "print ('number of tokens, in small vocab, found in glove and copied to embedding', c,c/float(vocab_size))"
   ]
  },
  {
   "cell_type": "code",
   "execution_count": 28,
   "id": "a456a133",
   "metadata": {},
   "outputs": [],
   "source": [
    "glove_thr = 0.5"
   ]
  },
  {
   "cell_type": "code",
   "execution_count": 29,
   "id": "fb70f074",
   "metadata": {},
   "outputs": [],
   "source": [
    "word2glove = {}\n",
    "for w in word2idx:\n",
    "    if w in glove_index_dict:\n",
    "        g = w\n",
    "    elif w.lower() in glove_index_dict:\n",
    "        g = w.lower()\n",
    "    elif w.startswith('#') and w[1:] in glove_index_dict:\n",
    "        g = w[1:]\n",
    "    elif w.startswith('#') and w[1:].lower() in glove_index_dict:\n",
    "        g = w[1:].lower()\n",
    "    else:\n",
    "        continue\n",
    "    word2glove[w] = g"
   ]
  },
  {
   "cell_type": "code",
   "execution_count": 33,
   "id": "a25ac904",
   "metadata": {},
   "outputs": [
    {
     "name": "stdout",
     "output_type": "stream",
     "text": [
      "# of glove substitutes found 106990\n"
     ]
    }
   ],
   "source": [
    "normed_embedding = embedding / np.linalg.norm(embedding, axis=1, keepdims=True)\n",
    "\n",
    "nb_unknown_words = 100\n",
    "glove_match = []\n",
    "\n",
    "for w, idx in word2idx.items():\n",
    "    if idx >= vocab_size - nb_unknown_words and w.isalpha() and w in word2glove:\n",
    "        gidx = glove_index_dict[word2glove[w]]\n",
    "        gweight = glove_embedding_weights[gidx, :].copy()\n",
    "        gweight /= np.linalg.norm(gweight)\n",
    "        # Compute cosine similarity in one go\n",
    "        score = np.dot(normed_embedding[:vocab_size - nb_unknown_words], gweight)\n",
    "        embedding_idx = np.argmax(score)\n",
    "        s = score[embedding_idx]\n",
    "        if s >= glove_thr and idx2word[embedding_idx] in word2glove:\n",
    "            glove_match.append((w, embedding_idx, s))\n",
    "\n",
    "glove_match.sort(key=lambda x: -x[2])\n",
    "print('# of glove substitutes found', len(glove_match))"
   ]
  },
  {
   "cell_type": "code",
   "execution_count": 34,
   "id": "e235fe24",
   "metadata": {},
   "outputs": [
    {
     "name": "stdout",
     "output_type": "stream",
     "text": [
      "0.5000101579903996 GUMBO => spicy\n",
      "0.5000095547771156 Sequoyah => Cherokee\n",
      "0.5000095547771156 SEQUOYAH => Cherokee\n",
      "0.5000073940129486 Taim => SunEdison\n",
      "0.5000073940129486 taim => SunEdison\n",
      "0.5000071259752128 MME => Madame\n",
      "0.5000071259752128 Mme => Madame\n",
      "0.5000071259752128 mme => Madame\n",
      "0.5000021900878605 Eurocopter => Puma\n",
      "0.5000018929298966 Rodoljub => SS16\n"
     ]
    }
   ],
   "source": [
    "for orig, sub, score in glove_match[-10:]:\n",
    "    print (score, orig,'=>', idx2word[sub])"
   ]
  },
  {
   "cell_type": "code",
   "execution_count": 35,
   "id": "94389bcd",
   "metadata": {},
   "outputs": [],
   "source": [
    "glove_idx2idx = dict((word2idx[w],embedding_idx) for  w, embedding_idx, _ in glove_match)"
   ]
  },
  {
   "cell_type": "markdown",
   "id": "f70d6e13",
   "metadata": {},
   "source": [
    "## Data"
   ]
  },
  {
   "cell_type": "code",
   "execution_count": 37,
   "id": "e66ad23f",
   "metadata": {},
   "outputs": [
    {
     "data": {
      "text/plain": [
       "1000000"
      ]
     },
     "execution_count": 37,
     "metadata": {},
     "output_type": "execute_result"
    }
   ],
   "source": [
    "Y = [[word2idx[token] for token in headline.split()] for headline in title_list]\n",
    "len(Y)"
   ]
  },
  {
   "cell_type": "code",
   "execution_count": 45,
   "id": "cf012416",
   "metadata": {},
   "outputs": [
    {
     "data": {
      "text/plain": [
       "1000000"
      ]
     },
     "execution_count": 45,
     "metadata": {},
     "output_type": "execute_result"
    }
   ],
   "source": [
    "X = [[word2idx[token] for token in d.split()] for d in content_list]\n",
    "len(X)"
   ]
  },
  {
   "cell_type": "code",
   "execution_count": 38,
   "id": "5767737c",
   "metadata": {},
   "outputs": [],
   "source": [
    "FN=\"vocab-embedding\""
   ]
  },
  {
   "cell_type": "code",
   "execution_count": 40,
   "id": "bd2305ca",
   "metadata": {},
   "outputs": [],
   "source": [
    "import pickle\n",
    "with open('data/%s.pkl'%FN,'wb') as fp:\n",
    "    pickle.dump((embedding, idx2word, word2idx, glove_idx2idx),fp,-1)"
   ]
  },
  {
   "cell_type": "code",
   "execution_count": 46,
   "id": "1abb804d",
   "metadata": {},
   "outputs": [],
   "source": [
    "with open('data/%s.data.pkl'%FN,'wb') as fp:\n",
    "    pickle.dump((X,Y),fp,-1)"
   ]
  }
 ],
 "metadata": {
  "kernelspec": {
   "display_name": "venv",
   "language": "python",
   "name": "python3"
  },
  "language_info": {
   "codemirror_mode": {
    "name": "ipython",
    "version": 3
   },
   "file_extension": ".py",
   "mimetype": "text/x-python",
   "name": "python",
   "nbconvert_exporter": "python",
   "pygments_lexer": "ipython3",
   "version": "3.12.3"
  }
 },
 "nbformat": 4,
 "nbformat_minor": 5
}
